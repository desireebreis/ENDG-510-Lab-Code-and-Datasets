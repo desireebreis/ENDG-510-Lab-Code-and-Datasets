{
 "cells": [
  {
   "cell_type": "code",
   "execution_count": 151,
   "id": "b986d670",
   "metadata": {},
   "outputs": [],
   "source": [
    "# load class\n",
    "import numpy as np\n",
    "import pandas as pd\n",
    "import os\n",
    "\n",
    "from sklearn.preprocessing import StandardScaler\n",
    "from sklearn.model_selection import train_test_split\n",
    "from sklearn import metrics"
   ]
  },
  {
   "cell_type": "code",
   "execution_count": 152,
   "id": "409bf3dd",
   "metadata": {},
   "outputs": [
    {
     "data": {
      "text/html": [
       "<div>\n",
       "<style scoped>\n",
       "    .dataframe tbody tr th:only-of-type {\n",
       "        vertical-align: middle;\n",
       "    }\n",
       "\n",
       "    .dataframe tbody tr th {\n",
       "        vertical-align: top;\n",
       "    }\n",
       "\n",
       "    .dataframe thead th {\n",
       "        text-align: right;\n",
       "    }\n",
       "</style>\n",
       "<table border=\"1\" class=\"dataframe\">\n",
       "  <thead>\n",
       "    <tr style=\"text-align: right;\">\n",
       "      <th></th>\n",
       "      <th>Temp</th>\n",
       "      <th>Humd</th>\n",
       "      <th>Label</th>\n",
       "    </tr>\n",
       "  </thead>\n",
       "  <tbody>\n",
       "    <tr>\n",
       "      <th>0</th>\n",
       "      <td>25.5</td>\n",
       "      <td>38.0</td>\n",
       "      <td>1</td>\n",
       "    </tr>\n",
       "    <tr>\n",
       "      <th>1</th>\n",
       "      <td>25.5</td>\n",
       "      <td>38.0</td>\n",
       "      <td>1</td>\n",
       "    </tr>\n",
       "    <tr>\n",
       "      <th>2</th>\n",
       "      <td>25.5</td>\n",
       "      <td>38.0</td>\n",
       "      <td>1</td>\n",
       "    </tr>\n",
       "    <tr>\n",
       "      <th>3</th>\n",
       "      <td>25.5</td>\n",
       "      <td>38.0</td>\n",
       "      <td>1</td>\n",
       "    </tr>\n",
       "    <tr>\n",
       "      <th>4</th>\n",
       "      <td>25.5</td>\n",
       "      <td>38.0</td>\n",
       "      <td>1</td>\n",
       "    </tr>\n",
       "  </tbody>\n",
       "</table>\n",
       "</div>"
      ],
      "text/plain": [
       "   Temp  Humd  Label\n",
       "0  25.5  38.0      1\n",
       "1  25.5  38.0      1\n",
       "2  25.5  38.0      1\n",
       "3  25.5  38.0      1\n",
       "4  25.5  38.0      1"
      ]
     },
     "execution_count": 152,
     "metadata": {},
     "output_type": "execute_result"
    }
   ],
   "source": [
    "# load data\n",
    "df = pd.read_csv('data_modified.csv')\n",
    "df.head()"
   ]
  },
  {
   "cell_type": "code",
   "execution_count": 153,
   "id": "e8c02395",
   "metadata": {},
   "outputs": [
    {
     "name": "stdout",
     "output_type": "stream",
     "text": [
      "Missing Values:\n",
      " Temp     0\n",
      "Humd     0\n",
      "Label    0\n",
      "dtype: int64\n"
     ]
    }
   ],
   "source": [
    "# checking for missing values\n",
    "missing_values = df.isnull().sum()\n",
    "print('Missing Values:\\n',missing_values)"
   ]
  },
  {
   "cell_type": "code",
   "execution_count": 154,
   "id": "0dd45b34",
   "metadata": {},
   "outputs": [],
   "source": [
    "# removing duplicates\n",
    "df = df.drop_duplicates()"
   ]
  },
  {
   "cell_type": "code",
   "execution_count": 155,
   "id": "29ef0271",
   "metadata": {},
   "outputs": [],
   "source": [
    "# preparing features\n",
    "x = df.drop(['Label'], axis=1)\n",
    "y = df['Label']\n",
    "\n",
    "x_train, x_test, y_train, y_test = train_test_split(x, y, test_size=.35) #testing 35% of data"
   ]
  },
  {
   "cell_type": "code",
   "execution_count": 156,
   "id": "403f430b",
   "metadata": {},
   "outputs": [],
   "source": [
    "# scale the data using standardization\n",
    "scaler = StandardScaler()\n",
    "x_train = scaler.fit_transform(x_train)\n",
    "x_test = scaler.transform(x_test)"
   ]
  },
  {
   "cell_type": "code",
   "execution_count": 157,
   "id": "1fa96cd2",
   "metadata": {
    "scrolled": true
   },
   "outputs": [
    {
     "name": "stdout",
     "output_type": "stream",
     "text": [
      "Accuracy: 1.0\n"
     ]
    }
   ],
   "source": [
    "# K-Nearest Neighbors\n",
    "\n",
    "from sklearn.neighbors import KNeighborsClassifier\n",
    "\n",
    "knn = KNeighborsClassifier(n_neighbors=3)\n",
    "knn = knn.fit(x_train, y_train)\n",
    "predict = knn.predict(x_test)\n",
    "\n",
    "print('Accuracy:', metrics.accuracy_score(y_test, predict))"
   ]
  },
  {
   "cell_type": "code",
   "execution_count": 158,
   "id": "4bb57061",
   "metadata": {
    "scrolled": true
   },
   "outputs": [
    {
     "name": "stdout",
     "output_type": "stream",
     "text": [
      "Accuracy: 0.86\n"
     ]
    }
   ],
   "source": [
    "# Logistic Regression\n",
    "\n",
    "from sklearn.linear_model import LogisticRegression\n",
    "\n",
    "lreg = LogisticRegression()\n",
    "lreg = lreg.fit(x_train, y_train)\n",
    "lpred = lreg.predict(x_test)\n",
    "\n",
    "print('Accuracy: {:.2f}'.format(metrics.accuracy_score(y_test, lpred)))"
   ]
  },
  {
   "cell_type": "code",
   "execution_count": 161,
   "id": "7ea46179",
   "metadata": {},
   "outputs": [
    {
     "name": "stdout",
     "output_type": "stream",
     "text": [
      "Accuracy: 0.97\n"
     ]
    }
   ],
   "source": [
    "# Decision Tree\n",
    "\n",
    "from sklearn.tree import DecisionTreeClassifier\n",
    "\n",
    "tree = DecisionTreeClassifier()\n",
    "tree = tree.fit(x_train, y_train) \n",
    "treepred = tree.predict(x_test)\n",
    "\n",
    "print('Accuracy: {:.2f}'.format(metrics.accuracy_score(y_test, treepred)))"
   ]
  },
  {
   "cell_type": "code",
   "execution_count": 162,
   "id": "c61a519e",
   "metadata": {},
   "outputs": [
    {
     "name": "stdout",
     "output_type": "stream",
     "text": [
      "Accuracy: 0.50\n"
     ]
    }
   ],
   "source": [
    "# Naive Bayes\n",
    "\n",
    "from sklearn.naive_bayes import GaussianNB\n",
    "\n",
    "nb = GaussianNB()\n",
    "nb.fit(x_train, y_train)\n",
    "nb_pred = nb.predict(x_test)\n",
    "\n",
    "print('Accuracy: {:.2f}'.format(metrics.accuracy_score(y_test, nb_pred)))"
   ]
  },
  {
   "cell_type": "code",
   "execution_count": 163,
   "id": "84d693a4",
   "metadata": {},
   "outputs": [
    {
     "name": "stdout",
     "output_type": "stream",
     "text": [
      "                 Model  Accuracy  Precision  Recall  F1-Score\n",
      "0  K-Nearest Neighbors      1.00       1.00    1.00      1.00\n",
      "1  Logistic Regression      0.86       0.88    0.86      0.84\n",
      "2        Decision Tree      0.97       0.97    0.97      0.97\n",
      "3          Naive Bayes      0.50       0.82    0.50      0.49\n"
     ]
    }
   ],
   "source": [
    "algorithms = {\n",
    "    'K-Nearest Neighbors':knn,\n",
    "    'Logistic Regression': lreg,\n",
    "    'Decision Tree': tree,\n",
    "    'Naive Bayes': nb\n",
    "}\n",
    "    \n",
    "results = []\n",
    "\n",
    "for name, model in algorithms.items():\n",
    "    y_pred = model.predict(x_test)\n",
    "    results.append({\n",
    "        'Model': name,\n",
    "        'Accuracy': round(metrics.accuracy_score(y_test, y_pred),2),\n",
    "        'Precision': round(metrics.precision_score(y_test, y_pred, average='weighted'),2),\n",
    "        'Recall': round(metrics.recall_score(y_test, y_pred, average='weighted'),2),\n",
    "        'F1-Score':round(metrics.f1_score(y_test, y_pred, average='weighted'),2)\n",
    "    })\n",
    "    \n",
    "results_df = pd.DataFrame(results)\n",
    "print(results_df)"
   ]
  },
  {
   "cell_type": "code",
   "execution_count": 164,
   "id": "f5f5a950",
   "metadata": {},
   "outputs": [],
   "source": [
    "# save and load scikit-learn models\n",
    "\n",
    "import pickle\n",
    "\n",
    "filename = 'model.pickle'\n",
    "\n",
    "pickle.dump(algorithms, open(filename, 'wb'))"
   ]
  }
 ],
 "metadata": {
  "kernelspec": {
   "display_name": "Python 3 (ipykernel)",
   "language": "python",
   "name": "python3"
  },
  "language_info": {
   "codemirror_mode": {
    "name": "ipython",
    "version": 3
   },
   "file_extension": ".py",
   "mimetype": "text/x-python",
   "name": "python",
   "nbconvert_exporter": "python",
   "pygments_lexer": "ipython3",
   "version": "3.11.4"
  }
 },
 "nbformat": 4,
 "nbformat_minor": 5
}
